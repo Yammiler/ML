{
  "cells": [
    {
      "cell_type": "code",
      "execution_count": null,
      "metadata": {
        "id": "w2E2sT9gaR_m",
        "outputId": "54104064-686a-40eb-99a2-7775f261c1c5"
      },
      "outputs": [
        {
          "name": "stdout",
          "output_type": "stream",
          "text": [
            "Collecting bs4\n",
            "  Downloading bs4-0.0.1.tar.gz (1.1 kB)\n",
            "  Preparing metadata (setup.py): started\n",
            "  Preparing metadata (setup.py): finished with status 'done'\n",
            "Collecting beautifulsoup4\n",
            "  Using cached beautifulsoup4-4.12.2-py3-none-any.whl (142 kB)\n",
            "Requirement already satisfied: soupsieve>1.2 in e:\\application\\dev\\python_path\\lib\\site-packages (from beautifulsoup4->bs4) (2.4)\n",
            "Building wheels for collected packages: bs4\n",
            "  Building wheel for bs4 (setup.py): started\n",
            "  Building wheel for bs4 (setup.py): finished with status 'done'\n",
            "  Created wheel for bs4: filename=bs4-0.0.1-py3-none-any.whl size=1266 sha256=928d105845fccd33cb5878bc72cdcac988f16dd4487f037cccb0b79e21bc2dc4\n",
            "  Stored in directory: c:\\users\\kanku\\appdata\\local\\pip\\cache\\wheels\\d4\\c8\\5b\\b5be9c20e5e4503d04a6eac8a3cd5c2393505c29f02bea0960\n",
            "Successfully built bs4\n",
            "Installing collected packages: beautifulsoup4, bs4\n",
            "Successfully installed beautifulsoup4-4.12.2 bs4-0.0.1\n",
            "Note: you may need to restart the kernel to use updated packages.\n"
          ]
        },
        {
          "name": "stderr",
          "output_type": "stream",
          "text": [
            "\n",
            "[notice] A new release of pip is available: 23.0.1 -> 23.1.2\n",
            "[notice] To update, run: python.exe -m pip install --upgrade pip\n"
          ]
        }
      ],
      "source": [
        "pip install bs4"
      ]
    },
    {
      "cell_type": "code",
      "execution_count": null,
      "metadata": {
        "id": "L3a7nczsaR_o",
        "outputId": "7ec955a7-ca26-49e7-dd61-a8c5b6441631"
      },
      "outputs": [
        {
          "name": "stdout",
          "output_type": "stream",
          "text": [
            "Collecting nltkNote: you may need to restart the kernel to use updated packages.\n",
            "\n",
            "  Using cached nltk-3.8.1-py3-none-any.whl (1.5 MB)\n",
            "Collecting click\n",
            "  Using cached click-8.1.3-py3-none-any.whl (96 kB)\n",
            "Requirement already satisfied: joblib in e:\\application\\dev\\python_path\\lib\\site-packages (from nltk) (1.2.0)\n",
            "Collecting regex>=2021.8.3\n",
            "  Downloading regex-2023.5.5-cp311-cp311-win_amd64.whl (267 kB)\n",
            "     ---------------------------------------- 0.0/267.9 kB ? eta -:--:--\n",
            "     ---- ---------------------------------- 30.7/267.9 kB 1.3 MB/s eta 0:00:01\n",
            "     --------------- ---------------------- 112.6/267.9 kB 1.3 MB/s eta 0:00:01\n",
            "     ------------------------------- ------ 225.3/267.9 kB 1.7 MB/s eta 0:00:01\n",
            "     -------------------------------------- 267.9/267.9 kB 1.8 MB/s eta 0:00:00\n",
            "Collecting tqdm\n",
            "  Using cached tqdm-4.65.0-py3-none-any.whl (77 kB)\n",
            "Requirement already satisfied: colorama in e:\\application\\dev\\python_path\\lib\\site-packages (from click->nltk) (0.4.6)\n",
            "Installing collected packages: tqdm, regex, click, nltk\n",
            "Successfully installed click-8.1.3 nltk-3.8.1 regex-2023.5.5 tqdm-4.65.0\n"
          ]
        },
        {
          "name": "stderr",
          "output_type": "stream",
          "text": [
            "\n",
            "[notice] A new release of pip is available: 23.0.1 -> 23.1.2\n",
            "[notice] To update, run: python.exe -m pip install --upgrade pip\n"
          ]
        }
      ],
      "source": [
        "pip install nltk"
      ]
    },
    {
      "cell_type": "code",
      "execution_count": null,
      "metadata": {
        "id": "o7vlCAlvaR_p",
        "outputId": "0b55c2c8-dcf9-4737-8863-db3751647b00"
      },
      "outputs": [
        {
          "name": "stdout",
          "output_type": "stream",
          "text": [
            "showing info https://raw.githubusercontent.com/nltk/nltk_data/gh-pages/index.xml\n"
          ]
        },
        {
          "data": {
            "text/plain": [
              "True"
            ]
          },
          "execution_count": 26,
          "metadata": {},
          "output_type": "execute_result"
        }
      ],
      "source": [
        "import nltk\n",
        "nltk.download()"
      ]
    },
    {
      "cell_type": "markdown",
      "source": [
        "tải tệp stopword VietName về https://github.com/stopwords/vietnamese-stopwords/blob/master/vietnamese-stopwords.txt rồi nhét lên và chỉnh đường dẫn"
      ],
      "metadata": {
        "id": "S3GDKM4WaXCs"
      }
    },
    {
      "cell_type": "markdown",
      "metadata": {
        "id": "HZpBuyDUaR_p"
      },
      "source": [
        "Code hoàn chỉnh"
      ]
    },
    {
      "cell_type": "code",
      "execution_count": null,
      "metadata": {
        "id": "9Q2N71dCaR_q",
        "outputId": "337e24fa-7a07-4a3d-a15e-616d5422bf6e"
      },
      "outputs": [
        {
          "name": "stdout",
          "output_type": "stream",
          "text": [
            "text\n",
            "Tàu Yuri Olefirenko của hải quân Ukraine (Ảnh: Sputnik).\"Ngày 29/5, sau một cuộc tấn công bằng vũ khí có độ chính xác cao của lực lượng không quân Nga vào cảng Odessa, tàu chiến cuối cùng của lực lượng hải quân Ukraine, Yuri Olefirenko, đã bị phá hủy\", Bộ Quốc phòng Nga thông báo hôm nay 31/5.Ukraine hiện chưa lên tiếng về thông tin trên.Yuri Olefirenko là tàu đổ bộ trong biên chế của hải quân Ukraine. Tàu chiến này được chế tạo vào cuối những năm 1990 ở Nga, nhưng sau đó được chuyển giao cho Ukraine sau khi Liên Xô tan rã. Con tàu đã trải qua nhiều lần hiện đại hóa trong những năm qua, trong đó có cuộc đại tu vào năm 2016.Cùng ngày, Bộ Quốc phòng Nga xác nhận các lực lượng quân sự nước này đang tiến hành chiến dịch tại Ukraine cùng các đơn vị Akhmat của Chechnya.\"Lữ đoàn bộ binh cơ giới số 5 và lực lượng đặc nhiệm Akhmat đang tiến công thành công theo hướng Maryinka\", Bộ Quốc phòng Nga thông báo.Bộ Quốc phòng Nga cho biết, các cuộc giao tranh khốc liệt nhất trong 24 giờ qua diễn ra ở hướng Donetsk, gần Avdeevka.Theo Bộ Quốc phòng Nga, Ukraine đã mất 200 binh sĩ ở khu vực Donetsk, cùng 3 xe bọc thép và 12 phương tiện vận tải, một khẩu pháo và hai hệ thống pháo phóng loạt trong 24 giờ qua. Ngoài ra, Bộ Quốc phòng Nga tuyên bố lực lượng phòng không nước này đã đánh chặn 12 rocket được phóng từ hệ thống HIMARS do Mỹ sản xuất và tên lửa tầm xa Storm Shadow do Anh cung cấp cho Ukraine.Trước đó, lãnh đạo Chechnya Ramzan Kadyrov cũng thông báo, lực lượng đặc nhiệm Akhmat sẽ được triển khai tới Donetsk để giành một số khu vực đông dân cư tại đây.\"Các đơn vị Chechnya đã nhận được mệnh lệnh mới để tái triển khai tới Donetsk. Theo mệnh lệnh, các binh sĩ Chechnya sẽ bắt đầu các hoạt động chiến đấu tích cực để giành quyền kiểm soát một số khu vực đông dân cư\", ông Kadyrov cho biết thêm.Theo ông Kadyrov, đặc nhiệm Chechnya đang chuẩn bị cho hoạt động tác chiến với sự hỗ trợ từ Bộ Quốc phòng Nga và Bộ Tổng tham mưu Lực lượng Vũ trang Nga.Cộng hòa Chechnya là khu vực gồm phần lớn người Hồi giáo. Mặc dù vẫn là một phần của Liên bang Nga, song Cộng hòa Chechnya đã được Moscow trao nhiều quyền tự trị.Hồi tháng 9/2022, ông Kadyrov thông báo, Cộng hòa Chechnya đã thành lập lực lượng đặc nhiệm OMON Akhmat-1 chuyên để phục vụ hoạt động quân sự của Nga ở Ukraine.Theo ông, lực lượng này gồm 2.000 binh sĩ được huấn luyện, trang bị đầy đủ và có lý tưởng. Ông cũng khẳng định, con số trên còn có thể tăng thêm vì nhiều người Chechnya bày tỏ mong muốn ra chiến trường.Hồi tháng 11 năm ngoái, ông Kadyrov tiết lộ, Chechnya vào thời điểm đó đã đưa tổng cộng 20.000 quân tới Ukraine.\n",
            "text\n",
            "['ứ ừ', 'tìm ra', 'trong số', 'nghĩ đến', 'từng nhà', 'nghe chừng', 'phương chi', 'chẳng lẽ', 'nhằm vào', 'ngọt', 'vung thiên địa', 'dễ sử dụng', 'nếu', 'sau chót', 'thốt thôi', 'trước khi', 'ba ngôi', 'nhìn thấy', 'lượng từ', 'nước ăn', 'tuy đã', 'đầy phè', 'làm tin', 'quá tay', 'ấy', 'ít thấy', 'trả của', 'nói riêng', 'đây rồi', 'phía trước', 'ơ hay', 'mà thôi', 'nhược bằng', 'ồ ồ', 'họ', 'rồi sau', 'mỗi một', 'tò te', 'mọi khi', 'ai ai', 'người', 'cổ lai', 'xăm xăm', 'nghe rõ', 'để không', 'duy có', 'tuốt tuột', 'rích', 'còn về', 'tránh xa', 'thấp thỏm', 'tạo ra', 'bộ điều', 'từ', 'có ai', 'khác khác', 'ngày qua', 'lại người', 'tại đó', 'thời gian', 'chỉn', 'cái ấy', 'bấy', 'chú mình', 'ăn hết', 'cơ mà', 'mà lại', 'có ngày', 'hỏi xem', 'thêm vào', 'chính giữa', 'ầu ơ', 'quan trọng', 'cuối điểm', 'dạ khách', 'như thế nào', 'luôn luôn', 'đến đâu', 'sắp', 'thanh điểm', 'nhất sinh', 'nếu mà', 'hết cả', 'nhất quyết', 'sì', 'đặt mức', 'biết đâu chừng', 'khó', 'hay hay', 'xử lý', 'lúc khác', 'lúc', 'đưa đến', 'chứ còn', 'lên xuống', 'cũng vậy', 'vụt', 'không kể', 'bay biến', 'bởi nhưng', 'ngồi sau', 'lại ăn', 'từ nay', 'thích ý', 'một khi', 'tránh', 'dùng hết', 'chùn chũn', 'nên người', 'cái đã', 'biết thế', 'hoàn toàn', 'chỉ tên', 'nếu không', 'cao số', 'chết thật', 'chịu', 'bao nhiêu', 'ăn hỏi', 'thường', 'hơn hết', 'lớn', 'bản', 'thậm từ', 'thường xuất hiện', 'họ gần', 'ngay bây giờ', 'ngoải', 'nói chung', 'không hay', 'nghĩ lại', 'tránh tình trạng', 'điểm', 'ngày xưa', 'nhà tôi', 'làm bằng', 'nặng', 'phỏng nước', 'trước nhất', 'tính người', 'ử', 'tự cao', 'trước hết', 'bởi sao', 'phứt', 'gần xa', 'giờ lâu', 'tìm bạn', 'hơn', 'mỗi lần', 'ý da', 'thếch', 'cu cậu', 'chính điểm', 'vừa mới', 'giữa lúc', 'ớ này', 'ắt thật', 'cao thế', 'chu cha', 'đảm bảo', 'vâng ý', 'pho', 'đâu cũng', 'nhằm để', 'ăn chịu', 'đầy năm', 'lúc lâu', 'bỏ xa', 'mang lại', 'nên tránh', 'được tin', 'đối với', 'do', 'sang sáng', 'đáo để', 'chui cha', 'điều gì', 'thế là', 'lấy vào', 'có họ', 'qua khỏi', 'khoảng không', 'thế ra', 'phải như', 'căn cái', 'trả trước', 'veo veo', 'chính là', 'dễ thấy', 'chúng mình', 'của', 'nhận việc', 'à', 'ơi là', 'phía', 'veo', 'cả thể', 'mang về', 'lần theo', 'quá trình', 'xin gặp', 'trả', 'tốt ngày', 'lại', 'tránh khỏi', 'á à', 'bản ý', 'là phải', 'lấy lại', 'nhỏ', 'giữ ý', 'chợt nghe', 'nhờ đó', 'vào', 'đã không', 'cực lực', 'ngày tháng', 'ngoài ra', 'tay quay', 'khác gì', 'đều', 'chịu chưa', 'cả', 'thanh chuyển', 'hầu hết', 'tuy vậy', 'tuổi cả', 'văng tê', 'biết việc', 'nhất nhất', 'mới đây', 'tăng chúng', 'luôn tay', 'ít lâu', 'nào đó', 'phụt', 'chú', 'mọi sự', 'mở', 'biết chừng nào', 'việc', 'thế thì', 'chứ sao', 'đặt làm', 'khi trước', 'sì sì', 'tốt', 'nghe hiểu', 'vùng', 'muốn', 'cùng tột', 'vào đến', 'nơi nơi', 'hay nói', 'vở', 'ngày rày', 'tháng tháng', 'thấy', 'không', 'đưa ra', 'đến cả', 'mợ', 'lần nào', 'ngay tức khắc', 'tăm tắp', 'làm mất', 'xoét', 'ra sao', 'cụ thể như', 'ồ', 'bởi ai', 'tin', 'lại giống', 'trong đó', 'dần dần', 'bằng nấy', 'ngồi không', 'phải người', 'trển', 'lại cái', 'tiện thể', 'bằng ấy', 'thực hiện', 'thời gian sử dụng', 'cha', 'tất cả bao nhiêu', 'các cậu', 'cô ấy', 'trước nay', 'ăn quá', 'qua chuyện', 'bằng vào', 'nức nở', 'trước đây', 'ơ', 'lúc này', 'lấy ra', 'cả nghe', 'tanh tanh', 'rồi ra', 'buổi sớm', 'ôi chao', 'chùn chùn', 'lại còn', 'như thể', 'a ha', 'đều nhau', 'dữ cách', 'sáng ý', 'rồi tay', 'biết trước', 'bỏ việc', 'phía trong', 'thứ đến', 'hỏi xin', 'nào hay', 'cũng nên', 'trong khi', 'chung quy', 'nghe tin', 'chính thị', 'bỏ mình', 'họ xa', 'đang', 'mọi', 'này', 'sớm', 'tìm cách', 'vì vậy', 'đưa xuống', 'vị tất', 'nhận được', 'ráo trọi', 'số loại', 'sự thế', 'để đến nỗi', 'vâng dạ', 'gần ngày', 'nghe nhìn', 'làm tăng', 'dùng làm', 'nhớ lại', 'nào', 'chị bộ', 'tên', 'biết được', 'ăn sáng', 'và', 'tới gần', 'mọi giờ', 'cô tăng', 'nên', 'bạn', 'áng như', 'hết rồi', 'ngọn', 'dễ như chơi', 'càng càng', 'xoẹt', 'vùng lên', 'có điều', 'bội phần', 'rén', 'đáng số', 'phè', 'thảo hèn', 'chọn', 'cứ', 'nghe đâu như', 'bỏ nhỏ', 'tên chính', 'thanh tính', 'ít hơn', 'khách', 'quả thật', 'nhất định', 'cao thấp', 'cơ', 'bỗng đâu', 'như không', 'lúc đó', 'có nhiều', 'nhằm khi', 'sở dĩ', 'là cùng', 'tấn', 'có người', 'chuyển đạt', 'em', 'thỉnh thoảng', 'vèo', 'mỗi lúc', 'chủn', 'ăn ngồi', 'bỏ', 'buổi ngày', 'điều kiện', 'tính', 'dành dành', 'cả tin', 'qua đi', 'thấp', 'xệp', 'nói phải', 'vào lúc', 'cùng với', 'ngay lúc', 'ngay lúc này', 'phải tay', 'ào vào', 'do đó', 'bởi tại', 'loại', 'xuất kì bất ý', 'làm được', 'cả ăn', 'đưa tay', 'ở năm', 'nói xa', 'chớ chi', 'từ đó', 'đưa vào', 'thoạt nghe', 'bỏ mất', 'có', 'bây giờ', 'nói trước', 'tuy rằng', 'tăng', 'lấy được', 'cây', 'dài ra', 'bỏ mẹ', 'dạ bán', 'thế thế', 'bài cái', 'đặt mình', 'vùng nước', 'ngọn nguồn', 'thì phải', 'không cùng', 'sốt sột', 'giảm thấp', 'đủ điều', 'đáng lí', 'không ai', 'ăn', 'phải rồi', 'bỗng nhưng', 'ăn tay', 'đã là', 'đánh đùng', 'ngày giờ', 'tha hồ chơi', 'cứ điểm', 'ngộ nhỡ', 'nghe được', 'biết', 'số là', 'khó khăn', 'chưa từng', 'vì chưng', 'nặng căn', 'nhất thì', 'thỏm', 'trước ngày', 'tại', 'cao', 'đúng với', 'cho đến khi', 'cụ thể là', 'bài', 'nhận biết', 'nhà ngươi', 'thay đổi', 'bài bác', 'khó thấy', 'rõ', 'tột cùng', 'mang nặng', 'có được', 'trên dưới', 'như quả', 'vạn nhất', 'nhờ có', 'quá mức', 'có điều kiện', 'phỏng theo', 'là ít', 'lấy thế', 'tên họ', 'đâu', 'nhất', 'tốt mối', 'ngăn ngắt', 'cứ việc', 'dẫn', 'hỏi lại', 'đúng ra', 'quá ư', 'đưa cho', 'luôn cả', 'cả thảy', 'gặp phải', 'phỉ phui', 'ô hay', 'thì giờ', 'chỉ chính', 'trong ngoài', 'đủ', 'đặt để', 'về không', 'làm sao', 'bây chừ', 'dẫu mà', 'cật sức', 'xa nhà', 'bất kể', 'nóc', 'vài người', 'vậy nên', 'ắt', 'cơ cùng', 'phải chi', 'tháng ngày', 'bác', 'phỏng như', 'ngày cấp', 'qua', 'là', 'bất luận', 'tránh ra', 'điểm đầu tiên', 'chắc dạ', 'ờ ờ', 'lại thôi', 'trong', 'công nhiên', 'phải giờ', 'nay', 'hỏi', 'đến giờ', 'chung cho', 'từng cái', 'như ai', 'thế đó', 'ít', 'từ điều', 'dài lời', 'nhân dịp', 'đến nỗi', 'chính bản', 'đến bao giờ', 'người khách', 'bằng', 'sau đó', 'bỏ lại', 'số cụ thể', 'đến lúc', 'sớm ngày', 'ái dà', 'chứ gì', 'khác nhau', 'mối', 'con dạ', 'sất', 'làm lòng', 'một số', 'vèo vèo', 'chao ôi', 'vượt khỏi', 'lần sang', 'gần bên', 'không còn', 'chưa chắc', 'trước kia', 'tức thì', 'nào cũng', 'đủ điểm', 'thật lực', 'amen', 'phỏng', 'cả năm', 'chắc', 'nhờ chuyển', 'ư', 'gây', 'bà ấy', 'ví phỏng', 'đến lời', 'tuyệt nhiên', 'đến tuổi', 'ngoài', 'chung chung', 'hết ý', 'làm cho', 'quá bộ', 'chung cuộc', 'lấy lý do', 'biết mình', 'vô hình trung', 'thoạt nhiên', 'thật là', 'sắp đặt', 'hay', 'đang thì', 'khi khác', 'sau sau', 'à ơi', 'lúc ấy', 'đâu đây', 'nói bông', 'dưới nước', 'à này', 'rốt cuộc', 'tà tà', 'để phần', 'lại làm', 'ơi', 'lấy để', 'trả lại', 'vâng vâng', 'chớ', 'ứ hự', 'sau cùng', 'đến cùng cực', 'tênh tênh', 'như là', 'có ăn', 'phải khi', 'đại loại', 'tăng thế', 'rứa', 'dẫu rằng', 'tuy nhiên', 'phải cách', 'bất quá', 'biết mấy', 'tôi', 'này nọ', 'vì rằng', 'vậy thì', 'xuất kỳ bất ý', 'bây nhiêu', 'sáng thế', 'nhanh lên', 'vài nơi', 'vả lại', 'lại đây', 'không khỏi', 'nó', 'đã đủ', 'khó nghĩ', 'cấp trực tiếp', 'trước đó', 'khó chơi', 'cùng ăn', 'thửa', 'tự lượng', 'lên số', 'ừ', 'khi', 'lên đến', 'vị trí', 'của tin', 'cao xa', 'càng hay', 'đến gần', 'cật lực', 'nhờ', 'ai', 'bất kỳ', 'như nhau', 'quay lại', 'ạ ơi', 'quay bước', 'như chơi', 'rất lâu', 'phót', 'bỏ cuộc', 'số người', 'ăn người', 'lời', 'những ai', 'chẳng phải', 'chuẩn bị', 'càng', 'thực sự', 'từng đơn vị', 'những là', 'đáng lý', 'cậu', 'bất đồ', 'xa cách', 'chia sẻ', 'nhìn', 'ráo cả', 'bà', 'biết chắc', 'bất quá chỉ', 'suýt', 'vượt quá', 'chốc chốc', 'nhất tâm', 'không phải không', 'thường thường', 'không phải', 'vung tán tàn', 'với', 'bất kì', 'nhìn theo', 'nhà việc', 'trước tuổi', 'tăng cấp', 'nơi', 'than ôi', 'toẹt', 'ngày này', 'dạ dạ', 'tuy là', 'cho được', 'tập trung', 'tốc tả', 'cơ chỉ', 'đủ nơi', 'vào vùng', 'thích tự', 'lại quả', 'đặt', 'bán', 'từ thế', 'nhận nhau', 'nữa là', 'cũng được', 'tìm việc', 'nghĩ xa', 'đó', 'thật vậy', 'lớn nhỏ', 'không đầy', 'dạ con', 'phải cái', 'cảm ơn', 'đến ngày', 'tốt bạn', 'qua lại', 'cảm thấy', 'những muốn', 'ào ào', 'gây cho', 'nhất loạt', 'với lại', 'bằng người', 'nhớ bập bõm', 'hết ráo', 'buổi', 'khá tốt', 'chung qui', 'cho thấy', 'dưới', 'cái gì', 'bởi thế cho nên', 'mới rồi', 'phần việc', 'có vẻ', 'chớ gì', 'tự vì', 'bao giờ', 'thế nào', 'cóc khô', 'tìm', 'lâu', 'bị', 'bức', 'nói thêm', 'nào phải', 'thì ra', 'hay tin', 'tay', 'đúng ngày', 'cái họ', 'bấy chầy', 'không bao lâu', 'bất ngờ', 'rồi đây', 'nhận họ', 'người nghe', 'nhưng', 'một vài', 'ai nấy', 'vả chăng', 'cái đó', 'ối giời', 'nếu như', 'trời đất ơi', 'căn cắt', 'chết nỗi', 'nên chăng', 'làm theo', 'trên', 'sao đang', 'trực tiếp', 'đưa em', 'chưa dễ', 'yêu cầu', 'cho rằng', 'nhớ', 'thấp xuống', 'sau nữa', 'chăn chắn', 'âu là', 'thường thôi', 'thực vậy', 'nhất là', 'trong mình', 'bằng nào', 'cô mình', 'thục mạng', 'như thường', 'chưa dùng', 'tới mức', 'tìm hiểu', 'riệt', 'làm ra', 'đưa', 'lâu lâu', 'về', 'ừ ào', 'giờ này', 'nền', 'ra điều', 'chưa tính', 'xa tanh', 'cùng', 'sau cuối', 'lúc đi', 'rằng là', 'tạo điều kiện', 'tuy', 'dù sao', 'cả ngày', 'xảy ra', 'ba tăng', 'đâu như', 'bản riêng', 'sáng', 'chúng', 'bao nả', 'bản thân', 'chành chạnh', 'làm tắp lự', 'bỏ cha', 'đến thì', 'tự ý', 'quá', 'số phần', 'như', 'khoảng cách', 'hãy', 'nặng về', 'mọi người', 'giờ', 'đến nơi', 'lâu ngày', 'không tính', 'như thế', 'lên cao', 'không chỉ', 'bởi thế', 'tháng', 'lúc đến', 'là thế nào', 'nhà ngoài', 'người người', 'kể cả', 'gồm', 'sử dụng', 'thình lình', 'cùng cực', 'từng', 'nước lên', 'mở mang', 'bên bị', 'giữa', 'hãy còn', 'bằng không', 'cô quả', 'mới', 'ba cùng', 'rốt cục', 'bấy giờ', 'nhằm lúc', 'toé khói', 'thuộc bài', 'lần này', 'cho đến nỗi', 'là là', 'ngôi', 'thương ôi', 'ăn về', 'ông tạo', 'mỗi', 'đủ dùng', 'có cơ', 'đến thế', 'ngày ấy', 'một ít', 'hiểu', 'ra tay', 'tại lòng', 'tất thảy', 'biết đâu đấy', 'lúc sáng', 'tự ăn', 'thế thường', 'lý do', 'một cách', 'xa gần', 'nào là', 'hết của', 'từ căn', 'tốt bộ', 'cũng vậy thôi', 'bỏ bà', 'chứ', 'bây bẩy', 'gì', 'trên bộ', 'gần hết', 'thảo nào', 'xiết bao', 'bị chú', 'tin vào', 'chỉ là', 'tại vì', 'ối dào', 'bèn', 'tại nơi', 'trở thành', 'nếu được', 'chứ lại', 'một', 'cuộc', 'ra bài', 'đầy tuổi', 'nghe lại', 'nhất luật', 'chắc hẳn', 'chung cục', 'đã', 'thích', 'cả đến', 'cho ăn', 'cho', 'sẽ', 'dần dà', 'như tuồng', 'hiện tại', 'xem ra', 'vậy ư', 'chuyển', 'chưa kể', 'chung quy lại', 'không thể', 'trong lúc', 'giống nhau', 'vượt', 'tại tôi', 'không được', 'chắc chắn', 'lần khác', 'nhà làm', 'lời nói', 'bộ', 'để cho', 'ngoài này', 'ba', 'cho nên', 'thêm giờ', 'chúng tôi', 'vài tên', 'ăn riêng', 'có số', 'cơ hội', 'chị', 'ngày', 'nghe ra', 'tôi con', 'tạo', 'không biết', 'thường tính', 'nhanh', 'nếu thế', 'vừa rồi', 'thanh không', 'không điều kiện', 'có chăng', 'nhìn nhận', 'tuốt tuồn tuột', 'vậy', 'số thiếu', 'chung ái', 'chớ không', 'nhóm', 'gặp khó khăn', 'thuộc từ', 'ô hô', 'bỏ quá', 'ăn cuộc', 'phía trên', 'duy chỉ', 'cha chả', 'thím', 'tăng thêm', 'ăn trên', 'nghe trực tiếp', 'giống như', 'còn thời gian', 'ngay từ', 'dì', 'nước cùng', 'làm riêng', 'người hỏi', 'nhìn xuống', 'từ ái', 'bỗng thấy', 'cho chắc', 'nước nặng', 'không có', 'phè phè', 'vừa vừa', 'giữ lấy', 'rồi', 'mọi lúc', 'một lúc', 'bắt đầu', 'cùng tuổi', 'nhung nhăng', 'bấy chừ', 'rút cục', 'ở đó', 'ngay lập tức', 'khác thường', 'gây thêm', 'vấn đề', 'bỏ ra', 'dễ khiến', 'ngồi bệt', 'lần tìm', 'bất cứ', 'nguồn', 'thuộc lại', 'qua ngày', 'bộ thuộc', 'lượng số', 'nhất tề', 'tọt', 'giống', 'rồi thì', 'ông nhỏ', 'một cơn', 'vào khoảng', 'nghe đâu', 'kể tới', 'sang tay', 'quận', 'thì', 'năm tháng', 'thốc', 'nhưng mà', 'oai oái', 'đúng', 'tên cái', 'cao sang', 'sẽ hay', 'từ ấy', 'ăn làm', 'dễ ngươi', 'hết', 'sau hết', 'thanh điều kiện', 'dù cho', 'gần đây', 'từ giờ', 'biết bao nhiêu', 'mất', 'thường đến', 'tiếp theo', 'chăng', 'vì', 'theo bước', 'thốt', 'ra bộ', 'khẳng định', 'làm thế nào', 'thứ', 'khi nên', 'rõ là', 'song le', 'hay đâu', 'coi mòi', 'ra ngôi', 'không dùng', 'ra người', 'đáng', 'nhiệt liệt', 'xoành xoạch', 'ba bản', 'tại sao', 'bản bộ', 'nói là', 'nấy', 'xềnh xệch', 'nhanh tay', 'tức tốc', 'dùng cho', 'bắt đầu từ', 'sang năm', 'nghen', 'đồng thời', 'cách bức', 'thiếu điểm', 'tắp', 'quá giờ', 'cách đều', 'dùng', 'thái quá', 'thà là', 'gần như', 'khó làm', 'nhận ra', 'thích thuộc', 'dễ sợ', 'đến nay', 'khó biết', 'thường sự', 'vâng', 'ý hoặc', 'chăng chắc', 'là vì', 'bấy nay', 'cao lâu', 'tại đâu', 'bước khỏi', 'ạ', 'ông ổng', 'nước', 'nọ', 'tù tì', 'tin thêm', 'giảm thế', 'ông', 'vẫn thế', 'bệt', 'số cho biết', 'chầm chập', 'mới hay', 'ít nhất', 'thế sự', 'ờ', 'giá trị', 'thậm chí', 'cần số', 'quá tuổi', 'mang', 'vừa', 'nhiều', 'nước đến', 'cấp số', 'trong này', 'ráo', 'làm như', 'thật tốt', 'thuộc', 'không cần', 'xa tắp', 'a lô', 'cao răng', 'vẫn', 'phóc', 'gần đến', 'để giống', 'như ý', 'tiếp tục', 'cho nhau', 'trước sau', 'anh ấy', 'nớ', 'để lại', 'tạo cơ hội', 'làm lại', 'bất thình lình', 'nữa rồi', 'cho đang', 'bỗng không', 'nói toẹt', 'của ngọt', 'đánh giá', 'chị ấy', 'thường khi', 'cách không', 'dành', 'xuể', 'nghe không', 'còn nữa', 'đặc biệt', 'ngươi', 'về sau', 'tha hồ ăn', 'mang mang', 'chí chết', 'cần gì', 'từng giờ', 'ở vào', 'nặng mình', 'trước tiên', 'không bán', 'cao ráo', 'vừa khi', 'không ngoài', 'nghe như', 'vài nhà', 'ở trên', 'làm gì', 'ít quá', 'căn tính', 'lấy ráo', 'chết tiệt', 'xin vâng', 'có đáng', 'xăm xúi', 'bên', 'cho đến', 'lời chú', 'bập bà bập bõm', 'tớ', 'chậc', 'đâu đó', 'chứ lị', 'thà rằng', 'những khi', 'con nhà', 'ối giời ơi', 'các', 'phăn phắt', 'nhiều ít', 'làm dần dần', 'thuộc cách', 'nói lên', 'gây ra', 'tự', 'bao lâu', 'chắc ăn', 'về nước', 'hơn là', 'từ loại', 'khó mở', 'cấp', 'dù', 'ô kê', 'xuất hiện', 'biết đâu', 'thộc', 'bập bõm', 'hết chuyện', 'sự việc', 'nước xuống', 'liên quan', 'bởi chưng', 'nhớ lấy', 'nước bài', 'nếu có', 'chứ ai', 'riêng từng', 'sao bản', 'như sau', 'rõ thật', 'nhau', 'số', 'nhận thấy', 'chưa bao giờ', 'lúc nào', 'thi thoảng', 'tuần tự', 'phải chăng', 'ít nhiều', 'đây đó', 'đến hay', 'thoạt', 'đầu tiên', 'con tính', 'bất nhược', 'người mình', 'cho biết', 'cũng', 'dễ dùng', 'giá trị thực tế', 'nghe thấy', 'thiếu gì', 'đưa chuyện', 'mà không', 'hoặc là', 'ba ngày', 'chuyển tự', 'trước', 'ở', 'thậm', 'để mà', 'cả nghĩ', 'thốt nói', 'ra lời', 'không bao giờ', 'tanh', 'ắt phải', 'tuy có', 'nào đâu', 'nhận làm', 'ít thôi', 'thoắt', 'nghe', 'ngôi thứ', 'được cái', 'nhà khó', 'chắc lòng', 'chúng ông', 'nói', 'trệt', 'chứ không', 'buổi mới', 'đều bước', 'ngày đến', 'nước quả', 'cùng chung', 'tuốt luốt', 'chớ như', 'từng phần', 'ý chừng', 'bỏ riêng', 'cả nhà', 'ông ấy', 'khó tránh', 'lần sau', 'nhỡ ra', 'nói tốt', 'nhớ ra', 'lâu nay', 'có ý', 'mức', 'theo tin', 'quay số', 'không nhận', 'vài ba', 'mà vẫn', 'ra gì', 'ơ kìa', 'ví dù', 'đành đạch', 'trong vùng', 'tốt hơn', 'thật ra', 'dở chừng', 'còn như', 'lần', 'ôi thôi', 'lần lần', 'thường số', 'thích cứ', 'thật thà', 'hiện nay', 'quan tâm', 'có nhà', 'nhằm', 'trừ phi', 'thật sự', 'lấy số', 'đến điều', 'cô', 'nếu cần', 'ai đó', 'là nhiều', 'rón rén', 'chung', 'ở lại', 'lấy sau', 'ở được', 'cuốn', 'rồi xem', 'chung nhau', 'ra vào', 'cây nước', 'làm lấy', 'trếu tráo', 'vậy mà', 'nên làm', 'phần lớn', 'vô kể', 'điều', 'được lời', 'làm vì', 'nói khó', 'thế thôi', 'vô luận', 'bấy lâu', 'chắc vào', 'buổi làm', 'theo như', 'thấp cơ', 'chớ kể', 'đơn vị', 'ngõ hầu', 'mọi việc', 'xa xả', 'quay', 'ắt hẳn', 'bỗng chốc', 'cho hay', 'nói ý', 'thì thôi', 'nhón nhén', 'sao', 'tựu trung', 'tít mù', 'sau này', 'tắp lự', 'thật chắc', 'chú mày', 'lấy', 'nhân tiện', 'qua lần', 'tấm bản', 'bển', 'quá tin', 'quan trọng vấn đề', 'việc gì', 'đâu phải', 'thường tại', 'lòng', 'rồi sao', 'thốc tháo', 'dạ', 'vậy ra', 'lâu các', 'theo', 'ngày càng', 'nói thật', 'vì thế', 'đã vậy', 'vấn đề quan trọng', 'úi dào', 'nói ra', 'câu hỏi', 'có phải', 'lượng cả', 'con con', 'đã hay', 'có thế', 'không gì', 'nhìn lại', 'quả thế', 'quá thì', 'đến xem', 'lại nữa', 'quá lời', 'chẳng nữa', 'đặt trước', 'ông từ', 'dạ dài', 'ra lại', 'như trên', 'tới', 'sao cho', 'chú dẫn', 'nữa khi', 'thế', 'lên mạnh', 'đại nhân', 'xoẳn', 'hoặc', 'bằng nhau', 'cách', 'giờ đi', 'nghỉm', 'mạnh', 'có dễ', 'người khác', 'thực hiện đúng', 'hay nhỉ', 'nói lại', 'bởi', 'chịu tốt', 'từ từ', 'bởi vậy', 'căn', 'mà cả', 'thêm', 'ngay', 'từ tính', 'thốt nhiên', 'không có gì', 'được nước', 'coi bộ', 'làm', 'bỏ không', 'tất cả', 'tính cách', 'ngay cả', 'nhờ nhờ', 'dẫu sao', 'đã lâu', 'ráo nước', 'thà', 'thanh thanh', 'chăng nữa', 'mở ra', 'tính phỏng', 'phù hợp', 'vì sao', 'mỗi người', 'đâu đâu', 'có tháng', 'đến', 'toà', 'xem lại', 'chợt nhìn', 'thôi', 'ăn chắc', 'đây này', 'dùng đến', 'tạo nên', 'ít ra', 'khiến', 'nói với', 'để được', 'thuần', 'con', 'bên cạnh', 'xăm xắm', 'cụ thể', 'quả', 'chịu ăn', 'chịu lời', 'chợt', 'năm', 'thêm chuyện', 'bỗng nhiên', 'khi nào', 'nghiễm nhiên', 'vài điều', 'làm đúng', 'cũng như', 'lòng không', 'tất tật', 'khác', 'làm tại', 'tối ư', 'xon xón', 'sau đây', 'chọn ra', 'tấm các', 'ở như', 'so với', 'thành ra', 'thế chuẩn bị', 'nói đến', 'mọi thứ', 'ra chơi', 'úi chà', 'tênh', 'bên có', 'đến khi', 'cùng nhau', 'tột', 'từng thời gian', 'thời điểm', 'cho tới', 'chọn bên', 'ngay khi đến', 'sáng ngày', 'vung tàn tán', 'cái', 'thế nên', 'hay sao', 'nói qua', 'em em', 'tính căn', 'có khi', 'lại nói', 'ngày nọ', 'quả vậy', 'nhìn chung', 'hay không', 'rằng', 'giảm', 'khỏi nói', 'có chăng là', 'bước đi', 'hơn nữa', 'giờ đến', 'ngôi nhà', 'có chuyện', 'ngay khi', 'tắp tắp', 'tha hồ', 'thực tế', 'phốc', 'ừ thì', 'suýt nữa', 'thấy tháng', 'răng răng', 'sa sả', 'riu ríu', 'quay đi', 'không cứ', 'kể như', 'thiếu', 'sao vậy', 'mà', 'ra', 'lớn lên', 'đại để', 'hay làm', 'nếu vậy', 'điểm gặp', 'có chứ', 'phần nào', 'sang', 'phần nhiều', 'từ tại', 'lấy làm', 'lên ngôi', 'khoảng', 'trực tiếp làm', 'cho về', 'ăn chung', 'đầy', 'ừ nhé', 'nhỉ', 'cho rồi', 'thứ bản', 'chính', 'chơi họ', 'nhé', 'vừa qua', 'xem', 'bước tới', 'vậy là', 'úi', 'tuổi tôi', 'nghĩ', 'giảm chính', 'xa', 'về tay', 'thậm cấp', 'đưa về', 'ái', 'xin', 'ô kìa', 'bán dạ', 'tăng giảm', 'thường hay', 'ào', 'sau', 'kể từ', 'gây giống', 'thanh', 'để', 'đại phàm', 'duy', 'sáng rõ', 'ít biết', 'chưa cần', 'do vì', 'dài', 'đang tay', 'béng', 'lấy xuống', 'sao bằng', 'ấy là', 'rén bước', 'nói rõ', 'thay đổi tình trạng', 'lên', 'nhà chung', 'nữa', 'lượng', 'làm ngay', 'thật quả', 'gì đó', 'chiếc', 'dễ đâu', 'tại đây', 'thường bị', 'đưa tin', 'phỏng tính', 'khá', 'cơ dẫn', 'biết bao', 'thì là', 'lấy thêm', 'thẩy', 'được', 'nhận', 'đến cùng', 'tự tính', 'tấn tới', 'ớ', 'thật', 'chơi', 'cơn', 'tự khi', 'phải biết', 'ngày nào', 'thế mà', 'từng ấy', 'oái', 'tiếp đó', 'đâu có', 'trả ngay', 'với nhau', 'bằng được', 'trệu trạo', 'cá nhân', 'thế à', 'tuy thế', 'phải lời', 'đó đây', 'làm nên', 'phắt', 'làm tôi', 'khác nào', 'thời gian tính', 'đáng kể', 'thành thử', 'hay biết', 'chuyện', 'xem số', 'mở nước', 'đưa tới', 'thanh ba', 'cho tin', 'vào gặp', 'phía dưới', 'lại bộ', 'bằng như', 'khỏi', 'tông tốc', 'chỉ', 'cuối', 'tạo ý', 'tới thì', 'bị vì', 'vừa lúc', 'ừ ừ', 'cần', 'thế lại', 'dù gì', 'bài bỏ', 'cho tới khi', 'bước', 'dễ nghe', 'ở đây', 'hay là', 'chứ không phải', 'tình trạng', 'choa', 'dễ thường', 'người nhận', 'nhất mực', 'đủ số', 'alô', 'bớ', 'nghe nói', 'lấy giống', 'mọi nơi', 'chỉ có', 'chẳng những', 'rồi nữa', 'như trước', 'bán cấp', 'giờ đây', 'bông', 'đâu nào', 'qua thì', 'ngoài xa', 'vài', 'gì gì', 'hỗ trợ', 'bấy lâu nay', 'nói đủ', 'ren rén', 'ba họ', 'bất chợt', 'cần cấp', 'dù rằng', 'dù dì', 'mỗi ngày', 'phần sau', 'trỏng', 'dễ gì', 'nhỏ người', 'khi không', 'những', 'hết nói', 'áng', 'bỗng dưng', 'anh', 'mất còn', 'dẫu', 'lúc trước', 'riêng', 'khác xa', 'ít có', 'ít nữa', 'quá nhiều', 'quá đáng', 'bởi đâu', 'ngồi trệt', 'chắc người', 'nghĩ ra', 'tới nơi', 'dầu sao', 'nhất thiết', 'bất giác', 'bằng cứ', 'tỏ vẻ', 'sẽ biết', 'cơ hồ', 'khó nghe', 'phần', 'đã thế', 'tính từ', 'ắt là', 'đặt ra', 'nhiên hậu', 'ý', 'nói nhỏ', 'đây', 'giống người', 'dễ', 'quả là', 'rày', 'phải', 'cơ chừng', 'nên chi', 'ít khi', 'còn', 'hơn trước', 'thôi việc', 'quá bán', 'vâng chịu', 'nhất đán', 'tên tự', 'gặp', 'điểm chính', 'xa xa', 'ví thử', 'rất', 'phải không', 'mình', 'á', 'tấm', 'ngay thật', 'bấy nhiêu', 'phía sau', 'ở nhờ', 'tháng năm', 'lên nước', 'có đâu', 'ủa', 'bán thế', 'không những', 'có thể', 'phía bạn', 'ngày xửa', 'phải lại', 'cách nhau', 'cũng thế', 'vốn dĩ', 'lấy cả', 'cả người', 'thuần ái', 'giữ', 'ra ý', 'so', 'không để', 'từ khi', 'bởi vì', 'bỗng', 'bất tử', 'vô vàn', 'ái chà', 'nhà', 'những lúc', 'chúng ta', 'đều đều', 'nghĩ tới', 'chưa có', 'thực ra', 'chứ như', 'tuổi', 'ngày ngày', 'luôn', 'cứ như', 'về phần', 'đúng tuổi', 'ví bằng', 'những như', 'tự tạo', 'hơn cả', 'tỏ ra', 'ra đây', 'chú khách', 'ngồi', 'dễ ăn', 'phía bên', 'lấy có', 'dữ', 'loại từ', 'đạt', 'lần trước', 'để lòng', 'do vậy', 'ba ba', 'kể', 'xuống', 'trong ấy', 'chưa', 'như vậy', 'sự', 'dào', 'răng', 'cuối cùng', 'ngay tức thì', 'khó nói', 'tất tần tật', 'qua tay', 'thúng thắng', 'ổng', 'đáng lẽ', 'lên cơn', 'gần']\n",
            " \"Ngày 29/5, sau một cuộc tấn công bằng vũ khí có độ chính xác cao của lực lượng không quân Nga vào cảng Odessa, tàu chiến cuối cùng của lực lượng hải quân Ukraine, Yuri Olefirenko, đã bị phá hủy\", Bộ Quốc phòng Nga thông báo hôm nay 31/5.Ukraine hiện chưa lên tiếng về thông tin trên.Yuri Olefirenko là tàu đổ bộ trong biên chế của hải quân Ukraine. Tàu chiến này được chế tạo vào cuối những năm 1990 ở Nga, nhưng sau đó được chuyển giao cho Ukraine sau khi Liên Xô tan rã. Con tàu đã trải qua nhiều lần hiện đại hóa trong những năm qua, trong đó có cuộc đại tu vào năm 2016.Cùng ngày, Bộ Quốc phòng Nga xác nhận các lực lượng quân sự nước này đang tiến hành chiến dịch tại Ukraine cùng các đơn vị Akhmat của Chechnya. Ông cũng khẳng định, con số trên còn có thể tăng thêm vì nhiều người Chechnya bày tỏ mong muốn ra chiến trường.Hồi tháng 11 năm ngoái, ông Kadyrov tiết lộ, Chechnya vào thời điểm đó đã đưa tổng cộng 20.000 quân tới Ukraine.\n"
          ]
        }
      ],
      "source": [
        "#importing libraries\n",
        "from nltk.corpus import stopwords\n",
        "from nltk.stem import PorterStemmer\n",
        "import nltk\n",
        "import bs4 as BeautifulSoup\n",
        "import urllib.request  \n",
        "\n",
        "url = \"https://dantri.com.vn/the-gioi/nga-tuyen-bo-pha-huy-tau-chien-cuoi-cung-cua-hai-quan-ukraine-20230531181348739.htm\"\n",
        "\n",
        "#fetching the content from the URL\n",
        "fetched_data = urllib.request.urlopen(url)\n",
        "\n",
        "article_read = fetched_data.read()\n",
        "\n",
        "#parsing the URL content and storing in a variable\n",
        "article_parsed = BeautifulSoup.BeautifulSoup(article_read,'html.parser')\n",
        "\n",
        "#returning <p> tags\n",
        "paragraphs = article_parsed.find_all('p')\n",
        "\n",
        "article_content = ''\n",
        "\n",
        "#looping through the paragraphs and adding them to the variable\n",
        "for p in paragraphs:  \n",
        "    article_content += p.text\n",
        "print('text')\n",
        "print(article_content)\n",
        "\n",
        "\n",
        "def get_stopwords_list(stop_file_path):\n",
        "    \"\"\"load stop words \"\"\"\n",
        "    \n",
        "    with open(stop_file_path, 'r', encoding=\"utf-8\") as f:\n",
        "        stopwords = f.readlines()\n",
        "        stop_set = set(m.strip() for m in stopwords)\n",
        "        return list(frozenset(stop_set))\n",
        "\n",
        "\n",
        "def _create_dictionary_table(text_string) -> dict:\n",
        "\n",
        "    #Chỉnh đường dẫn này stopword\n",
        "    stopwords_path = \"D:\\study\\HUS\\machineLearning\\Final\\code\\\\vietnamese-stopwords.txt\"\n",
        "    stopwords = get_stopwords_list(stopwords_path)\n",
        "    print('stopword')\n",
        "    print(stopwords)\n",
        "    words = word_tokenize(text_string)\n",
        "    \n",
        "    #reducing words to their root form\n",
        "    stem = PorterStemmer()\n",
        "    \n",
        "    #creating dictionary for the word frequency table\n",
        "    frequency_table = dict()\n",
        "    for wd in words:\n",
        "        wd = stem.stem(wd)\n",
        "        if wd in stopwords:\n",
        "            continue\n",
        "        if wd in frequency_table:\n",
        "            frequency_table[wd] += 1\n",
        "        else:\n",
        "            frequency_table[wd] = 1\n",
        "\n",
        "    return frequency_table\n",
        "\n",
        "\n",
        "def _calculate_sentence_scores(sentences, frequency_table) -> dict:   \n",
        "\n",
        "    #algorithm for scoring a sentence by its words\n",
        "    sentence_weight = dict()\n",
        "\n",
        "    for sentence in sentences:\n",
        "        sentence_wordcount = (len(word_tokenize(sentence)))\n",
        "        sentence_wordcount_without_stop_words = 0\n",
        "        for word_weight in frequency_table:\n",
        "            if word_weight in sentence.lower():\n",
        "                sentence_wordcount_without_stop_words += 1\n",
        "                if sentence[:7] in sentence_weight:\n",
        "                    sentence_weight[sentence[:7]] += frequency_table[word_weight]\n",
        "                else:\n",
        "                    sentence_weight[sentence[:7]] = frequency_table[word_weight]\n",
        "\n",
        "        sentence_weight[sentence[:7]] = sentence_weight[sentence[:7]] / sentence_wordcount_without_stop_words\n",
        "\n",
        "    return sentence_weight\n",
        "\n",
        "def _calculate_average_score(sentence_weight) -> int:\n",
        "   \n",
        "    #calculating the average score for the sentences\n",
        "    sum_values = 0\n",
        "    for entry in sentence_weight:\n",
        "        sum_values += sentence_weight[entry]\n",
        "\n",
        "    #getting sentence average value from source text\n",
        "    average_score = (sum_values / len(sentence_weight))\n",
        "\n",
        "    return average_score\n",
        "\n",
        "def _get_article_summary(sentences, sentence_weight, threshold):\n",
        "    sentence_counter = 0\n",
        "    article_summary = ''\n",
        "\n",
        "    for sentence in sentences:\n",
        "        if sentence[:7] in sentence_weight and sentence_weight[sentence[:7]] >= (threshold):\n",
        "            article_summary += \" \" + sentence\n",
        "            sentence_counter += 1\n",
        "\n",
        "    return article_summary\n",
        "\n",
        "def _run_article_summary(article):\n",
        "    \n",
        "    #creating a dictionary for the word frequency table\n",
        "    frequency_table = _create_dictionary_table(article)\n",
        "\n",
        "    #tokenizing the sentences\n",
        "    sentences = sent_tokenize(article)\n",
        "\n",
        "    #algorithm for scoring a sentence by its words\n",
        "    sentence_scores = _calculate_sentence_scores(sentences, frequency_table)\n",
        "\n",
        "    #getting the threshold\n",
        "    threshold = _calculate_average_score(sentence_scores)\n",
        "\n",
        "    #producing the summary\n",
        "    article_summary = _get_article_summary(sentences, sentence_scores, 1 * threshold)\n",
        "\n",
        "    return article_summary\n",
        "\n",
        "if __name__ == '__main__':\n",
        "    summary_results = _run_article_summary(article_content)\n",
        "    print(\"summary:\", summary_results)"
      ]
    },
    {
      "cell_type": "code",
      "source": [],
      "metadata": {
        "id": "biDkBkeRKnB-"
      },
      "execution_count": null,
      "outputs": []
    },
    {
      "cell_type": "code",
      "source": [
        "from google.colab import drive\n",
        "drive.mount('/content/gdrive')\n"
      ],
      "metadata": {
        "colab": {
          "base_uri": "https://localhost:8080/"
        },
        "id": "XLAiTxGKMwTj",
        "outputId": "94c41cba-e274-4819-dae9-3130c509dc04"
      },
      "execution_count": null,
      "outputs": [
        {
          "output_type": "stream",
          "name": "stdout",
          "text": [
            "Mounted at /content/gdrive\n"
          ]
        }
      ]
    },
    {
      "cell_type": "code",
      "source": [
        "!pip install --upgrade scikit-learn"
      ],
      "metadata": {
        "colab": {
          "base_uri": "https://localhost:8080/"
        },
        "id": "rYoJnWyVN1U-",
        "outputId": "b88656ad-f9ef-4ef3-9145-427267c5df6b"
      },
      "execution_count": null,
      "outputs": [
        {
          "output_type": "stream",
          "name": "stdout",
          "text": [
            "Looking in indexes: https://pypi.org/simple, https://us-python.pkg.dev/colab-wheels/public/simple/\n",
            "Requirement already satisfied: scikit-learn in /usr/local/lib/python3.10/dist-packages (1.2.2)\n",
            "Requirement already satisfied: numpy>=1.17.3 in /usr/local/lib/python3.10/dist-packages (from scikit-learn) (1.22.4)\n",
            "Requirement already satisfied: scipy>=1.3.2 in /usr/local/lib/python3.10/dist-packages (from scikit-learn) (1.10.1)\n",
            "Requirement already satisfied: joblib>=1.1.1 in /usr/local/lib/python3.10/dist-packages (from scikit-learn) (1.2.0)\n",
            "Requirement already satisfied: threadpoolctl>=2.0.0 in /usr/local/lib/python3.10/dist-packages (from scikit-learn) (3.1.0)\n"
          ]
        }
      ]
    },
    {
      "cell_type": "code",
      "source": [
        "import joblib\n",
        "\n",
        "# Assuming your trained model is stored in a variable called 'model'\n",
        "joblib.dump(model, '/content/gdrive/MyDrive/ML/textSummarizer.pkl')"
      ],
      "metadata": {
        "colab": {
          "base_uri": "https://localhost:8080/",
          "height": 200
        },
        "id": "OeJNM3fWNMH0",
        "outputId": "d0fff3c4-b47c-42f0-915a-443fd80978ab"
      },
      "execution_count": null,
      "outputs": [
        {
          "output_type": "error",
          "ename": "NameError",
          "evalue": "ignored",
          "traceback": [
            "\u001b[0;31m---------------------------------------------------------------------------\u001b[0m",
            "\u001b[0;31mNameError\u001b[0m                                 Traceback (most recent call last)",
            "\u001b[0;32m<ipython-input-5-a59b6fce0019>\u001b[0m in \u001b[0;36m<cell line: 4>\u001b[0;34m()\u001b[0m\n\u001b[1;32m      2\u001b[0m \u001b[0;34m\u001b[0m\u001b[0m\n\u001b[1;32m      3\u001b[0m \u001b[0;31m# Assuming your trained model is stored in a variable called 'model'\u001b[0m\u001b[0;34m\u001b[0m\u001b[0;34m\u001b[0m\u001b[0m\n\u001b[0;32m----> 4\u001b[0;31m \u001b[0mjoblib\u001b[0m\u001b[0;34m.\u001b[0m\u001b[0mdump\u001b[0m\u001b[0;34m(\u001b[0m\u001b[0mmodel\u001b[0m\u001b[0;34m,\u001b[0m \u001b[0;34m'/content/gdrive/MyDrive/ML/textSummarizer.pkl'\u001b[0m\u001b[0;34m)\u001b[0m\u001b[0;34m\u001b[0m\u001b[0;34m\u001b[0m\u001b[0m\n\u001b[0m",
            "\u001b[0;31mNameError\u001b[0m: name 'model' is not defined"
          ]
        }
      ]
    }
  ],
  "metadata": {
    "kernelspec": {
      "display_name": "Python 3",
      "language": "python",
      "name": "python3"
    },
    "language_info": {
      "codemirror_mode": {
        "name": "ipython",
        "version": 3
      },
      "file_extension": ".py",
      "mimetype": "text/x-python",
      "name": "python",
      "nbconvert_exporter": "python",
      "pygments_lexer": "ipython3",
      "version": "3.11.2"
    },
    "orig_nbformat": 4,
    "colab": {
      "provenance": []
    }
  },
  "nbformat": 4,
  "nbformat_minor": 0
}